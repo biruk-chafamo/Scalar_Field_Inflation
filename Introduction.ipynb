{
 "cells": [
  {
   "cell_type": "markdown",
   "metadata": {},
   "source": [
    "# Numerical Analysis of Scalar Field Equations of motion\n",
    "\n",
    "## Introduction\n",
    "Cosmic inflation theory is one of the least understood fields in cosmology, owing to a lack of sufficient data to determine the behavior of the early universe. Inflation theory was mainly proposed to explain the discrepancies arising from the Big Bang theory. These discrepancies are most notably known as the flatness problem and the horizon problem. At the theoretical level, inflation theory manages to explain these questions by introducing a very brief period of rapid expansion taking place shortly after the big bang. However, the mechanisms governing the inflation of the universe are still unknown. Scalar field inflation is one of the several theories attempting to explain inflation. This theory states that a hypothetical scalar field known as the inflaton field is responsible for inflation. In the paper titled \"Inflationary Cosmology from Dynamical Projective Connections,\" the inflaton field, $\\phi$ is derived by taking the trace of the diffeomorphism field, $D_{ab}$, which is defined as follows: \n",
    "$$D_{ab}=W_{ab}+\\frac{1}{\\sqrt{\\alpha_0}d}g_{ab}(\\psi-\\frac{\\gamma_0\\sqrt{\\alpha_0}}{J_0}),$$\n",
    "where $g_{ab}$ is the space time metric, $W_{ab}$ is a traceless tensor, and $\\alpha_0,$ $\\gamma$ and $J_0$ are constants.\n",
    "\n",
    "The diffeomorphism field arises from string theory and Thomas Whitehead theory of gravity. The diffeomorphism field equations of motion are acquired by varying a modified version of Einstein-Hilbert and Gauss-Bonnet action with respect to the diffeomorphism field. The following differential equations represent the time and space components of the diffeomorphism field equations of motion in the Friedman-Robertson-Walker Metric:  \n",
    "$$4J_0 H^2 +cm\\phi-8J_0 \\dot H+\\alpha_0 cm H\\dot \\phi =0$$\n",
    "$$12J_0H^2+16J_0\\dot H+2\\alpha_0 cm H\\dot \\phi+cm (3\\phi+\\alpha_0\\ddot \\phi)=0$$\n",
    "\n",
    "The purpose of this project is to provide a numerical solution for this set of second order differential equations which represent the equations of motion for the scalar field, $\\phi$.\n",
    "\n",
    "The above set of equations has two variables, which are $\\phi$ and $H$, where $\\phi$ is the proposed inflaton scalar field and $H$ is the Hubble's constant. And the pararmeters are $\\alpha_0$, $J_0$, $c$, and $m$. The parameter $c$ and $m$ correspond to speed of light and the mass of the scalar field, respectively, while $\\alpha_0$ is free to be chosen with dimensions $L^2$ and $J_0$ is given by, \n",
    "$$J_0=\\frac{3c^3}{32\\pi G},$$\n",
    "where $G$ is the gravitational constant. \n",
    "## Scaling Parameters\n",
    "In order to uses sensible numerical values for the each parameter, which would otherwise have too large or too small of a value in conventional units, all the units will be transformed into planck units as listed below:\n",
    "$$1 t_p = 5.39*10^{-44}s$$\n",
    "$$1 l_p = 1.6*10^{-35}m$$\n",
    "$$1 m_p = \\sqrt{\\frac{\\hbar c}{8 \\pi G}}$$\n",
    "$$c=l_p/t_p,$$\n",
    "where $t_p$ is planck time, $l_p$ is plack length, and $m_p$ is reduced planck mass. Therefore, our parameter $J_0$ can be written as,\n",
    "$$J_0=\\frac{3c^2}{4}\\frac{c}{8 \\pi G}$$\n",
    "$$J_0=\\frac{3c^2}{4\\hbar}\\frac{c\\hbar}{8 \\pi G}$$\n",
    "$$J_0=\\frac{3c^2}{4\\hbar}{m_p}^2$$\n",
    "Furthermore, the use of planck units permit $\\hbar = c = 8\\pi G = m_p=1$. Therefore, $J_0$ can finally be written as,\n",
    "$$J_0=\\frac{3}{4}.$$\n",
    "\n",
    "Although the mass of the scalar field is not accurately estimated, it is assumed to be on the scale of the reduced planck mass. So, for the purpose of acquiring a numerical solution, the following assumption is made: $m\\approx 0.1 m_p.$ And Lastly, the $\\alpha_0$ parameter is set to be on the scale of ${l_p}^2.$ "
   ]
  }
 ],
 "metadata": {
  "kernelspec": {
   "display_name": "Python 3",
   "language": "python",
   "name": "python3"
  },
  "language_info": {
   "codemirror_mode": {
    "name": "ipython",
    "version": 3
   },
   "file_extension": ".py",
   "mimetype": "text/x-python",
   "name": "python",
   "nbconvert_exporter": "python",
   "pygments_lexer": "ipython3",
   "version": "3.7.5"
  }
 },
 "nbformat": 4,
 "nbformat_minor": 2
}
